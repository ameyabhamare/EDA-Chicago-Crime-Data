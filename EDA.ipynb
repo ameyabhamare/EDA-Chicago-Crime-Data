{
 "cells": [
  {
   "cell_type": "code",
   "execution_count": 2,
   "metadata": {},
   "outputs": [],
   "source": [
    "import pandas as pd"
   ]
  },
  {
   "cell_type": "code",
   "execution_count": 4,
   "metadata": {},
   "outputs": [],
   "source": [
    "df = pd.read_csv('Dataset.csv')"
   ]
  },
  {
   "cell_type": "code",
   "execution_count": 5,
   "metadata": {},
   "outputs": [
    {
     "data": {
      "text/html": [
       "<div>\n",
       "<style scoped>\n",
       "    .dataframe tbody tr th:only-of-type {\n",
       "        vertical-align: middle;\n",
       "    }\n",
       "\n",
       "    .dataframe tbody tr th {\n",
       "        vertical-align: top;\n",
       "    }\n",
       "\n",
       "    .dataframe thead th {\n",
       "        text-align: right;\n",
       "    }\n",
       "</style>\n",
       "<table border=\"1\" class=\"dataframe\">\n",
       "  <thead>\n",
       "    <tr style=\"text-align: right;\">\n",
       "      <th></th>\n",
       "      <th>unique_key</th>\n",
       "      <th>case_number</th>\n",
       "      <th>date</th>\n",
       "      <th>block</th>\n",
       "      <th>iucr</th>\n",
       "      <th>primary_type</th>\n",
       "      <th>description</th>\n",
       "      <th>location_description</th>\n",
       "      <th>arrest</th>\n",
       "      <th>domestic</th>\n",
       "      <th>...</th>\n",
       "      <th>ward</th>\n",
       "      <th>community_area</th>\n",
       "      <th>fbi_code</th>\n",
       "      <th>x_coordinate</th>\n",
       "      <th>y_coordinate</th>\n",
       "      <th>year</th>\n",
       "      <th>updated_on</th>\n",
       "      <th>latitude</th>\n",
       "      <th>longitude</th>\n",
       "      <th>location</th>\n",
       "    </tr>\n",
       "  </thead>\n",
       "  <tbody>\n",
       "    <tr>\n",
       "      <th>0</th>\n",
       "      <td>11814183</td>\n",
       "      <td>JC416371</td>\n",
       "      <td>2019-09-01 09:00:00+00:00</td>\n",
       "      <td>038XX S ELLIS AVE</td>\n",
       "      <td>0930</td>\n",
       "      <td>MOTOR VEHICLE THEFT</td>\n",
       "      <td>THEFT/RECOVERY: AUTOMOBILE</td>\n",
       "      <td>PARKING LOT/GARAGE(NON.RESID.)</td>\n",
       "      <td>False</td>\n",
       "      <td>False</td>\n",
       "      <td>...</td>\n",
       "      <td>4.0</td>\n",
       "      <td>36</td>\n",
       "      <td>07</td>\n",
       "      <td>1182584.0</td>\n",
       "      <td>1879629.0</td>\n",
       "      <td>2019</td>\n",
       "      <td>2019-09-08 16:07:45+00:00</td>\n",
       "      <td>41.824914</td>\n",
       "      <td>-87.605655</td>\n",
       "      <td>(41.824914418, -87.605655435)</td>\n",
       "    </tr>\n",
       "    <tr>\n",
       "      <th>1</th>\n",
       "      <td>11770356</td>\n",
       "      <td>JC363819</td>\n",
       "      <td>2019-07-25 09:52:00+00:00</td>\n",
       "      <td>049XX N MILWAUKEE AVE</td>\n",
       "      <td>1120</td>\n",
       "      <td>DECEPTIVE PRACTICE</td>\n",
       "      <td>FORGERY</td>\n",
       "      <td>STREET</td>\n",
       "      <td>True</td>\n",
       "      <td>False</td>\n",
       "      <td>...</td>\n",
       "      <td>45.0</td>\n",
       "      <td>11</td>\n",
       "      <td>10</td>\n",
       "      <td>1139437.0</td>\n",
       "      <td>1932199.0</td>\n",
       "      <td>2019</td>\n",
       "      <td>2019-10-14 16:04:15+00:00</td>\n",
       "      <td>41.970067</td>\n",
       "      <td>-87.762668</td>\n",
       "      <td>(41.970066618, -87.762668225)</td>\n",
       "    </tr>\n",
       "  </tbody>\n",
       "</table>\n",
       "<p>2 rows × 22 columns</p>\n",
       "</div>"
      ],
      "text/plain": [
       "   unique_key case_number                       date                  block  \\\n",
       "0    11814183    JC416371  2019-09-01 09:00:00+00:00      038XX S ELLIS AVE   \n",
       "1    11770356    JC363819  2019-07-25 09:52:00+00:00  049XX N MILWAUKEE AVE   \n",
       "\n",
       "   iucr         primary_type                 description  \\\n",
       "0  0930  MOTOR VEHICLE THEFT  THEFT/RECOVERY: AUTOMOBILE   \n",
       "1  1120   DECEPTIVE PRACTICE                     FORGERY   \n",
       "\n",
       "             location_description  arrest  domestic  ...  ward  \\\n",
       "0  PARKING LOT/GARAGE(NON.RESID.)   False     False  ...   4.0   \n",
       "1                          STREET    True     False  ...  45.0   \n",
       "\n",
       "   community_area  fbi_code  x_coordinate y_coordinate  year  \\\n",
       "0              36        07     1182584.0    1879629.0  2019   \n",
       "1              11        10     1139437.0    1932199.0  2019   \n",
       "\n",
       "                  updated_on   latitude  longitude  \\\n",
       "0  2019-09-08 16:07:45+00:00  41.824914 -87.605655   \n",
       "1  2019-10-14 16:04:15+00:00  41.970067 -87.762668   \n",
       "\n",
       "                        location  \n",
       "0  (41.824914418, -87.605655435)  \n",
       "1  (41.970066618, -87.762668225)  \n",
       "\n",
       "[2 rows x 22 columns]"
      ]
     },
     "execution_count": 5,
     "metadata": {},
     "output_type": "execute_result"
    }
   ],
   "source": [
    "df.head(2)"
   ]
  },
  {
   "cell_type": "code",
   "execution_count": 6,
   "metadata": {},
   "outputs": [
    {
     "name": "stdout",
     "output_type": "stream",
     "text": [
      "['unique_key', 'case_number', 'date', 'block', 'iucr', 'primary_type', 'description', 'location_description', 'arrest', 'domestic', 'beat', 'district', 'ward', 'community_area', 'fbi_code', 'x_coordinate', 'y_coordinate', 'year', 'updated_on', 'latitude', 'longitude', 'location']\n"
     ]
    }
   ],
   "source": [
    "columns = df.columns.tolist()\n",
    "print(columns)"
   ]
  },
  {
   "cell_type": "code",
   "execution_count": 7,
   "metadata": {},
   "outputs": [
    {
     "data": {
      "text/html": [
       "<div>\n",
       "<style scoped>\n",
       "    .dataframe tbody tr th:only-of-type {\n",
       "        vertical-align: middle;\n",
       "    }\n",
       "\n",
       "    .dataframe tbody tr th {\n",
       "        vertical-align: top;\n",
       "    }\n",
       "\n",
       "    .dataframe thead th {\n",
       "        text-align: right;\n",
       "    }\n",
       "</style>\n",
       "<table border=\"1\" class=\"dataframe\">\n",
       "  <thead>\n",
       "    <tr style=\"text-align: right;\">\n",
       "      <th></th>\n",
       "      <th>unique_key</th>\n",
       "      <th>beat</th>\n",
       "      <th>district</th>\n",
       "      <th>ward</th>\n",
       "      <th>community_area</th>\n",
       "      <th>x_coordinate</th>\n",
       "      <th>y_coordinate</th>\n",
       "      <th>year</th>\n",
       "      <th>latitude</th>\n",
       "      <th>longitude</th>\n",
       "    </tr>\n",
       "  </thead>\n",
       "  <tbody>\n",
       "    <tr>\n",
       "      <th>count</th>\n",
       "      <td>3.000000e+04</td>\n",
       "      <td>30000.000000</td>\n",
       "      <td>30000.000000</td>\n",
       "      <td>29999.000000</td>\n",
       "      <td>30000.000000</td>\n",
       "      <td>2.949400e+04</td>\n",
       "      <td>2.949400e+04</td>\n",
       "      <td>30000.000000</td>\n",
       "      <td>29494.000000</td>\n",
       "      <td>29494.000000</td>\n",
       "    </tr>\n",
       "    <tr>\n",
       "      <th>mean</th>\n",
       "      <td>7.101561e+06</td>\n",
       "      <td>1006.345600</td>\n",
       "      <td>9.426867</td>\n",
       "      <td>17.495517</td>\n",
       "      <td>44.357533</td>\n",
       "      <td>1.167592e+06</td>\n",
       "      <td>1.868557e+06</td>\n",
       "      <td>2009.809200</td>\n",
       "      <td>41.794834</td>\n",
       "      <td>-87.661061</td>\n",
       "    </tr>\n",
       "    <tr>\n",
       "      <th>std</th>\n",
       "      <td>2.962270e+06</td>\n",
       "      <td>648.737593</td>\n",
       "      <td>6.281632</td>\n",
       "      <td>13.211404</td>\n",
       "      <td>18.816589</td>\n",
       "      <td>2.373540e+04</td>\n",
       "      <td>3.957639e+04</td>\n",
       "      <td>5.038006</td>\n",
       "      <td>0.109021</td>\n",
       "      <td>0.085880</td>\n",
       "    </tr>\n",
       "    <tr>\n",
       "      <th>min</th>\n",
       "      <td>6.900000e+02</td>\n",
       "      <td>131.000000</td>\n",
       "      <td>1.000000</td>\n",
       "      <td>3.000000</td>\n",
       "      <td>0.000000</td>\n",
       "      <td>0.000000e+00</td>\n",
       "      <td>0.000000e+00</td>\n",
       "      <td>2001.000000</td>\n",
       "      <td>36.619446</td>\n",
       "      <td>-91.686566</td>\n",
       "    </tr>\n",
       "    <tr>\n",
       "      <th>25%</th>\n",
       "      <td>4.521324e+06</td>\n",
       "      <td>433.000000</td>\n",
       "      <td>4.000000</td>\n",
       "      <td>8.000000</td>\n",
       "      <td>34.000000</td>\n",
       "      <td>1.149427e+06</td>\n",
       "      <td>1.838758e+06</td>\n",
       "      <td>2005.000000</td>\n",
       "      <td>41.712860</td>\n",
       "      <td>-87.727183</td>\n",
       "    </tr>\n",
       "    <tr>\n",
       "      <th>50%</th>\n",
       "      <td>7.212875e+06</td>\n",
       "      <td>815.000000</td>\n",
       "      <td>8.000000</td>\n",
       "      <td>11.000000</td>\n",
       "      <td>50.000000</td>\n",
       "      <td>1.174886e+06</td>\n",
       "      <td>1.862644e+06</td>\n",
       "      <td>2009.000000</td>\n",
       "      <td>41.779239</td>\n",
       "      <td>-87.633948</td>\n",
       "    </tr>\n",
       "    <tr>\n",
       "      <th>75%</th>\n",
       "      <td>9.758444e+06</td>\n",
       "      <td>1613.000000</td>\n",
       "      <td>16.000000</td>\n",
       "      <td>23.000000</td>\n",
       "      <td>57.000000</td>\n",
       "      <td>1.185782e+06</td>\n",
       "      <td>1.882132e+06</td>\n",
       "      <td>2014.000000</td>\n",
       "      <td>41.832205</td>\n",
       "      <td>-87.595355</td>\n",
       "    </tr>\n",
       "    <tr>\n",
       "      <th>max</th>\n",
       "      <td>1.186182e+07</td>\n",
       "      <td>2512.000000</td>\n",
       "      <td>31.000000</td>\n",
       "      <td>50.000000</td>\n",
       "      <td>74.000000</td>\n",
       "      <td>1.205119e+06</td>\n",
       "      <td>1.949924e+06</td>\n",
       "      <td>2019.000000</td>\n",
       "      <td>42.018925</td>\n",
       "      <td>-87.524529</td>\n",
       "    </tr>\n",
       "  </tbody>\n",
       "</table>\n",
       "</div>"
      ],
      "text/plain": [
       "         unique_key          beat      district          ward  community_area  \\\n",
       "count  3.000000e+04  30000.000000  30000.000000  29999.000000    30000.000000   \n",
       "mean   7.101561e+06   1006.345600      9.426867     17.495517       44.357533   \n",
       "std    2.962270e+06    648.737593      6.281632     13.211404       18.816589   \n",
       "min    6.900000e+02    131.000000      1.000000      3.000000        0.000000   \n",
       "25%    4.521324e+06    433.000000      4.000000      8.000000       34.000000   \n",
       "50%    7.212875e+06    815.000000      8.000000     11.000000       50.000000   \n",
       "75%    9.758444e+06   1613.000000     16.000000     23.000000       57.000000   \n",
       "max    1.186182e+07   2512.000000     31.000000     50.000000       74.000000   \n",
       "\n",
       "       x_coordinate  y_coordinate          year      latitude     longitude  \n",
       "count  2.949400e+04  2.949400e+04  30000.000000  29494.000000  29494.000000  \n",
       "mean   1.167592e+06  1.868557e+06   2009.809200     41.794834    -87.661061  \n",
       "std    2.373540e+04  3.957639e+04      5.038006      0.109021      0.085880  \n",
       "min    0.000000e+00  0.000000e+00   2001.000000     36.619446    -91.686566  \n",
       "25%    1.149427e+06  1.838758e+06   2005.000000     41.712860    -87.727183  \n",
       "50%    1.174886e+06  1.862644e+06   2009.000000     41.779239    -87.633948  \n",
       "75%    1.185782e+06  1.882132e+06   2014.000000     41.832205    -87.595355  \n",
       "max    1.205119e+06  1.949924e+06   2019.000000     42.018925    -87.524529  "
      ]
     },
     "execution_count": 7,
     "metadata": {},
     "output_type": "execute_result"
    }
   ],
   "source": [
    "df.describe()"
   ]
  },
  {
   "cell_type": "code",
   "execution_count": 8,
   "metadata": {},
   "outputs": [
    {
     "data": {
      "text/plain": [
       "unique_key              30000\n",
       "case_number             30000\n",
       "date                    30000\n",
       "block                   30000\n",
       "iucr                    30000\n",
       "primary_type            30000\n",
       "description             30000\n",
       "location_description    29898\n",
       "arrest                  30000\n",
       "domestic                30000\n",
       "beat                    30000\n",
       "district                30000\n",
       "ward                    29999\n",
       "community_area          30000\n",
       "fbi_code                30000\n",
       "x_coordinate            29494\n",
       "y_coordinate            29494\n",
       "year                    30000\n",
       "updated_on              30000\n",
       "latitude                29494\n",
       "longitude               29494\n",
       "location                29494\n",
       "dtype: int64"
      ]
     },
     "execution_count": 8,
     "metadata": {},
     "output_type": "execute_result"
    }
   ],
   "source": [
    "df.count()"
   ]
  },
  {
   "cell_type": "code",
   "execution_count": 9,
   "metadata": {},
   "outputs": [],
   "source": [
    "# finding out all the columns that have NANs\n",
    "columnsNAN = df.columns[df.isna().any()].tolist()"
   ]
  },
  {
   "cell_type": "code",
   "execution_count": 10,
   "metadata": {},
   "outputs": [
    {
     "name": "stdout",
     "output_type": "stream",
     "text": [
      "['location_description', 'ward', 'x_coordinate', 'y_coordinate', 'latitude', 'longitude', 'location']\n"
     ]
    }
   ],
   "source": [
    "print(columnsNAN)"
   ]
  },
  {
   "cell_type": "code",
   "execution_count": 11,
   "metadata": {},
   "outputs": [
    {
     "name": "stdout",
     "output_type": "stream",
     "text": [
      "location_description    102\n",
      "ward                      1\n",
      "x_coordinate            506\n",
      "y_coordinate            506\n",
      "latitude                506\n",
      "longitude               506\n",
      "location                506\n",
      "dtype: int64\n"
     ]
    }
   ],
   "source": [
    "# number of NANs present in the columns that do have NANs\n",
    "print(df[columnsNAN].isna().sum())"
   ]
  },
  {
   "cell_type": "code",
   "execution_count": 12,
   "metadata": {},
   "outputs": [
    {
     "name": "stdout",
     "output_type": "stream",
     "text": [
      "location_description -> object\n",
      "ward -> float64\n",
      "x_coordinate -> float64\n",
      "y_coordinate -> float64\n",
      "latitude -> float64\n",
      "longitude -> float64\n",
      "location -> object\n"
     ]
    }
   ],
   "source": [
    "# finding which of the columns that have NANs are categorical and numerical respectively\n",
    "for column in columnsNAN:\n",
    "    print(column, '->', df[column].dtype)"
   ]
  },
  {
   "cell_type": "code",
   "execution_count": 13,
   "metadata": {},
   "outputs": [],
   "source": [
    "import numpy as np"
   ]
  },
  {
   "cell_type": "code",
   "execution_count": 14,
   "metadata": {},
   "outputs": [],
   "source": [
    "# filing up missing values with NANs\n",
    "df[columnsNAN == ''] = np.NaN"
   ]
  },
  {
   "cell_type": "markdown",
   "metadata": {},
   "source": [
    "All the NANs for categorical columns being replaced with its previous row values. \n",
    "All the NANs for numeric columns being replaced with the mean of that column."
   ]
  },
  {
   "cell_type": "code",
   "execution_count": 15,
   "metadata": {},
   "outputs": [],
   "source": [
    "df[['location','location_description']] = df[['location','location_description']].fillna(method = 'ffill')"
   ]
  },
  {
   "cell_type": "code",
   "execution_count": 16,
   "metadata": {},
   "outputs": [],
   "source": [
    "df['latitude'] = df['latitude'].fillna(df['latitude'].mean())"
   ]
  },
  {
   "cell_type": "code",
   "execution_count": 17,
   "metadata": {},
   "outputs": [],
   "source": [
    "df['longitude'] = df['longitude'].fillna(df['longitude'].mean())"
   ]
  },
  {
   "cell_type": "code",
   "execution_count": 18,
   "metadata": {},
   "outputs": [],
   "source": [
    "df['x_coordinate'] = df['x_coordinate'].fillna(df['x_coordinate'].mean())"
   ]
  },
  {
   "cell_type": "code",
   "execution_count": 19,
   "metadata": {},
   "outputs": [],
   "source": [
    "df['y_coordinate'] = df['y_coordinate'].fillna(df['y_coordinate'].mean())"
   ]
  },
  {
   "cell_type": "code",
   "execution_count": 20,
   "metadata": {},
   "outputs": [],
   "source": [
    "df['ward'] = df['ward'].fillna(df['ward'].mean())"
   ]
  },
  {
   "cell_type": "code",
   "execution_count": 21,
   "metadata": {},
   "outputs": [
    {
     "name": "stdout",
     "output_type": "stream",
     "text": [
      "location_description    0\n",
      "ward                    0\n",
      "x_coordinate            0\n",
      "y_coordinate            0\n",
      "latitude                0\n",
      "longitude               0\n",
      "location                0\n",
      "dtype: int64\n"
     ]
    }
   ],
   "source": [
    "# NANs have been filled\n",
    "print(df[columnsNAN].isna().sum())"
   ]
  },
  {
   "cell_type": "code",
   "execution_count": 22,
   "metadata": {},
   "outputs": [
    {
     "data": {
      "text/html": [
       "<div>\n",
       "<style scoped>\n",
       "    .dataframe tbody tr th:only-of-type {\n",
       "        vertical-align: middle;\n",
       "    }\n",
       "\n",
       "    .dataframe tbody tr th {\n",
       "        vertical-align: top;\n",
       "    }\n",
       "\n",
       "    .dataframe thead th {\n",
       "        text-align: right;\n",
       "    }\n",
       "</style>\n",
       "<table border=\"1\" class=\"dataframe\">\n",
       "  <thead>\n",
       "    <tr style=\"text-align: right;\">\n",
       "      <th></th>\n",
       "      <th>unique_key</th>\n",
       "      <th>case_number</th>\n",
       "      <th>date</th>\n",
       "      <th>block</th>\n",
       "      <th>iucr</th>\n",
       "      <th>primary_type</th>\n",
       "      <th>description</th>\n",
       "      <th>location_description</th>\n",
       "      <th>arrest</th>\n",
       "      <th>domestic</th>\n",
       "      <th>...</th>\n",
       "      <th>community_area</th>\n",
       "      <th>fbi_code</th>\n",
       "      <th>x_coordinate</th>\n",
       "      <th>y_coordinate</th>\n",
       "      <th>year</th>\n",
       "      <th>updated_on</th>\n",
       "      <th>latitude</th>\n",
       "      <th>longitude</th>\n",
       "      <th>location</th>\n",
       "      <th>False</th>\n",
       "    </tr>\n",
       "  </thead>\n",
       "  <tbody>\n",
       "    <tr>\n",
       "      <th>0</th>\n",
       "      <td>11814183</td>\n",
       "      <td>JC416371</td>\n",
       "      <td>2019-09-01 09:00:00+00:00</td>\n",
       "      <td>038XX S ELLIS AVE</td>\n",
       "      <td>0930</td>\n",
       "      <td>MOTOR VEHICLE THEFT</td>\n",
       "      <td>THEFT/RECOVERY: AUTOMOBILE</td>\n",
       "      <td>PARKING LOT/GARAGE(NON.RESID.)</td>\n",
       "      <td>False</td>\n",
       "      <td>False</td>\n",
       "      <td>...</td>\n",
       "      <td>36</td>\n",
       "      <td>07</td>\n",
       "      <td>1182584.0</td>\n",
       "      <td>1879629.0</td>\n",
       "      <td>2019</td>\n",
       "      <td>2019-09-08 16:07:45+00:00</td>\n",
       "      <td>41.824914</td>\n",
       "      <td>-87.605655</td>\n",
       "      <td>(41.824914418, -87.605655435)</td>\n",
       "      <td>NaN</td>\n",
       "    </tr>\n",
       "    <tr>\n",
       "      <th>1</th>\n",
       "      <td>11770356</td>\n",
       "      <td>JC363819</td>\n",
       "      <td>2019-07-25 09:52:00+00:00</td>\n",
       "      <td>049XX N MILWAUKEE AVE</td>\n",
       "      <td>1120</td>\n",
       "      <td>DECEPTIVE PRACTICE</td>\n",
       "      <td>FORGERY</td>\n",
       "      <td>STREET</td>\n",
       "      <td>True</td>\n",
       "      <td>False</td>\n",
       "      <td>...</td>\n",
       "      <td>11</td>\n",
       "      <td>10</td>\n",
       "      <td>1139437.0</td>\n",
       "      <td>1932199.0</td>\n",
       "      <td>2019</td>\n",
       "      <td>2019-10-14 16:04:15+00:00</td>\n",
       "      <td>41.970067</td>\n",
       "      <td>-87.762668</td>\n",
       "      <td>(41.970066618, -87.762668225)</td>\n",
       "      <td>NaN</td>\n",
       "    </tr>\n",
       "  </tbody>\n",
       "</table>\n",
       "<p>2 rows × 23 columns</p>\n",
       "</div>"
      ],
      "text/plain": [
       "   unique_key case_number                       date                  block  \\\n",
       "0    11814183    JC416371  2019-09-01 09:00:00+00:00      038XX S ELLIS AVE   \n",
       "1    11770356    JC363819  2019-07-25 09:52:00+00:00  049XX N MILWAUKEE AVE   \n",
       "\n",
       "   iucr         primary_type                 description  \\\n",
       "0  0930  MOTOR VEHICLE THEFT  THEFT/RECOVERY: AUTOMOBILE   \n",
       "1  1120   DECEPTIVE PRACTICE                     FORGERY   \n",
       "\n",
       "             location_description  arrest  domestic  ...  community_area  \\\n",
       "0  PARKING LOT/GARAGE(NON.RESID.)   False     False  ...              36   \n",
       "1                          STREET    True     False  ...              11   \n",
       "\n",
       "   fbi_code  x_coordinate  y_coordinate  year                 updated_on  \\\n",
       "0        07     1182584.0     1879629.0  2019  2019-09-08 16:07:45+00:00   \n",
       "1        10     1139437.0     1932199.0  2019  2019-10-14 16:04:15+00:00   \n",
       "\n",
       "    latitude  longitude                       location  False  \n",
       "0  41.824914 -87.605655  (41.824914418, -87.605655435)    NaN  \n",
       "1  41.970067 -87.762668  (41.970066618, -87.762668225)    NaN  \n",
       "\n",
       "[2 rows x 23 columns]"
      ]
     },
     "execution_count": 22,
     "metadata": {},
     "output_type": "execute_result"
    }
   ],
   "source": [
    "df.head(2)"
   ]
  },
  {
   "cell_type": "code",
   "execution_count": 23,
   "metadata": {},
   "outputs": [],
   "source": [
    "# dropping a column that was created unnecessarily\n",
    "df = df.drop(False, axis = 1)"
   ]
  },
  {
   "cell_type": "code",
   "execution_count": 24,
   "metadata": {},
   "outputs": [
    {
     "data": {
      "text/html": [
       "<div>\n",
       "<style scoped>\n",
       "    .dataframe tbody tr th:only-of-type {\n",
       "        vertical-align: middle;\n",
       "    }\n",
       "\n",
       "    .dataframe tbody tr th {\n",
       "        vertical-align: top;\n",
       "    }\n",
       "\n",
       "    .dataframe thead th {\n",
       "        text-align: right;\n",
       "    }\n",
       "</style>\n",
       "<table border=\"1\" class=\"dataframe\">\n",
       "  <thead>\n",
       "    <tr style=\"text-align: right;\">\n",
       "      <th></th>\n",
       "      <th>unique_key</th>\n",
       "      <th>case_number</th>\n",
       "      <th>date</th>\n",
       "      <th>block</th>\n",
       "      <th>iucr</th>\n",
       "      <th>primary_type</th>\n",
       "      <th>description</th>\n",
       "      <th>location_description</th>\n",
       "      <th>arrest</th>\n",
       "      <th>domestic</th>\n",
       "      <th>...</th>\n",
       "      <th>ward</th>\n",
       "      <th>community_area</th>\n",
       "      <th>fbi_code</th>\n",
       "      <th>x_coordinate</th>\n",
       "      <th>y_coordinate</th>\n",
       "      <th>year</th>\n",
       "      <th>updated_on</th>\n",
       "      <th>latitude</th>\n",
       "      <th>longitude</th>\n",
       "      <th>location</th>\n",
       "    </tr>\n",
       "  </thead>\n",
       "  <tbody>\n",
       "    <tr>\n",
       "      <th>0</th>\n",
       "      <td>11814183</td>\n",
       "      <td>JC416371</td>\n",
       "      <td>2019-09-01 09:00:00+00:00</td>\n",
       "      <td>038XX S ELLIS AVE</td>\n",
       "      <td>0930</td>\n",
       "      <td>MOTOR VEHICLE THEFT</td>\n",
       "      <td>THEFT/RECOVERY: AUTOMOBILE</td>\n",
       "      <td>PARKING LOT/GARAGE(NON.RESID.)</td>\n",
       "      <td>False</td>\n",
       "      <td>False</td>\n",
       "      <td>...</td>\n",
       "      <td>4.0</td>\n",
       "      <td>36</td>\n",
       "      <td>07</td>\n",
       "      <td>1182584.0</td>\n",
       "      <td>1879629.0</td>\n",
       "      <td>2019</td>\n",
       "      <td>2019-09-08 16:07:45+00:00</td>\n",
       "      <td>41.824914</td>\n",
       "      <td>-87.605655</td>\n",
       "      <td>(41.824914418, -87.605655435)</td>\n",
       "    </tr>\n",
       "    <tr>\n",
       "      <th>1</th>\n",
       "      <td>11770356</td>\n",
       "      <td>JC363819</td>\n",
       "      <td>2019-07-25 09:52:00+00:00</td>\n",
       "      <td>049XX N MILWAUKEE AVE</td>\n",
       "      <td>1120</td>\n",
       "      <td>DECEPTIVE PRACTICE</td>\n",
       "      <td>FORGERY</td>\n",
       "      <td>STREET</td>\n",
       "      <td>True</td>\n",
       "      <td>False</td>\n",
       "      <td>...</td>\n",
       "      <td>45.0</td>\n",
       "      <td>11</td>\n",
       "      <td>10</td>\n",
       "      <td>1139437.0</td>\n",
       "      <td>1932199.0</td>\n",
       "      <td>2019</td>\n",
       "      <td>2019-10-14 16:04:15+00:00</td>\n",
       "      <td>41.970067</td>\n",
       "      <td>-87.762668</td>\n",
       "      <td>(41.970066618, -87.762668225)</td>\n",
       "    </tr>\n",
       "  </tbody>\n",
       "</table>\n",
       "<p>2 rows × 22 columns</p>\n",
       "</div>"
      ],
      "text/plain": [
       "   unique_key case_number                       date                  block  \\\n",
       "0    11814183    JC416371  2019-09-01 09:00:00+00:00      038XX S ELLIS AVE   \n",
       "1    11770356    JC363819  2019-07-25 09:52:00+00:00  049XX N MILWAUKEE AVE   \n",
       "\n",
       "   iucr         primary_type                 description  \\\n",
       "0  0930  MOTOR VEHICLE THEFT  THEFT/RECOVERY: AUTOMOBILE   \n",
       "1  1120   DECEPTIVE PRACTICE                     FORGERY   \n",
       "\n",
       "             location_description  arrest  domestic  ...  ward  \\\n",
       "0  PARKING LOT/GARAGE(NON.RESID.)   False     False  ...   4.0   \n",
       "1                          STREET    True     False  ...  45.0   \n",
       "\n",
       "   community_area  fbi_code  x_coordinate y_coordinate  year  \\\n",
       "0              36        07     1182584.0    1879629.0  2019   \n",
       "1              11        10     1139437.0    1932199.0  2019   \n",
       "\n",
       "                  updated_on   latitude  longitude  \\\n",
       "0  2019-09-08 16:07:45+00:00  41.824914 -87.605655   \n",
       "1  2019-10-14 16:04:15+00:00  41.970067 -87.762668   \n",
       "\n",
       "                        location  \n",
       "0  (41.824914418, -87.605655435)  \n",
       "1  (41.970066618, -87.762668225)  \n",
       "\n",
       "[2 rows x 22 columns]"
      ]
     },
     "execution_count": 24,
     "metadata": {},
     "output_type": "execute_result"
    }
   ],
   "source": [
    "df.head(2)"
   ]
  },
  {
   "cell_type": "code",
   "execution_count": 25,
   "metadata": {},
   "outputs": [],
   "source": [
    "from sklearn import preprocessing"
   ]
  },
  {
   "cell_type": "code",
   "execution_count": 26,
   "metadata": {},
   "outputs": [],
   "source": [
    "from numpy import mean, std"
   ]
  },
  {
   "cell_type": "code",
   "execution_count": 27,
   "metadata": {},
   "outputs": [],
   "source": [
    "# finding out all the columns that are numeric in nature\n",
    "numericList = df.select_dtypes(include = np.number).columns.tolist()"
   ]
  },
  {
   "cell_type": "code",
   "execution_count": 28,
   "metadata": {},
   "outputs": [
    {
     "name": "stdout",
     "output_type": "stream",
     "text": [
      "['unique_key', 'beat', 'district', 'ward', 'community_area', 'x_coordinate', 'y_coordinate', 'year', 'latitude', 'longitude']\n"
     ]
    }
   ],
   "source": [
    "print(numericList)"
   ]
  },
  {
   "cell_type": "code",
   "execution_count": 31,
   "metadata": {},
   "outputs": [],
   "source": [
    "import seaborn as sns\n",
    "import matplotlib.pyplot as plt"
   ]
  },
  {
   "cell_type": "code",
   "execution_count": 34,
   "metadata": {},
   "outputs": [
    {
     "data": {
      "image/png": "[encoded data removed]",
      "text/plain": [
       "<Figure size 432x288 with 1 Axes>"
      ]
     },
     "metadata": {
      "needs_background": "light"
     },
     "output_type": "display_data"
    }
   ],
   "source": [
    "# as expected, the latitude cannot be normally distributed\n",
    "sns.distplot(df['latitude'], hist = False, rug = True)\n",
    "plt.show()"
   ]
  },
  {
   "cell_type": "code",
   "execution_count": 36,
   "metadata": {},
   "outputs": [
    {
     "data": {
      "image/png": "[encoded data removed]",
      "text/plain": [
       "<Figure size 432x288 with 1 Axes>"
      ]
     },
     "metadata": {
      "needs_background": "light"
     },
     "output_type": "display_data"
    }
   ],
   "source": [
    "# as expected, the x_coordinate's cannot be normally distributed\n",
    "sns.distplot(df['x_coordinate'], hist = False, rug = True)\n",
    "plt.show()"
   ]
  },
  {
   "cell_type": "code",
   "execution_count": 37,
   "metadata": {},
   "outputs": [],
   "source": [
    "from statsmodels.graphics.gofplots import qqplot"
   ]
  },
  {
   "cell_type": "code",
   "execution_count": 38,
   "metadata": {},
   "outputs": [
    {
     "data": {
      "image/png": "[encoded data removed]",
      "text/plain": [
       "<Figure size 432x288 with 1 Axes>"
      ]
     },
     "metadata": {
      "needs_background": "light"
     },
     "output_type": "display_data"
    }
   ],
   "source": [
    "# demonstrating how the variable ward number isn't normally distributed\n",
    "quantilePlot = qqplot(df['ward'], line = 's')"
   ]
  },
  {
   "cell_type": "code",
   "execution_count": 39,
   "metadata": {},
   "outputs": [],
   "source": [
    "from scipy.stats import shapiro"
   ]
  },
  {
   "cell_type": "code",
   "execution_count": 42,
   "metadata": {},
   "outputs": [
    {
     "name": "stderr",
     "output_type": "stream",
     "text": [
      "C:\\Users\\91974\\Anaconda3\\lib\\site-packages\\scipy\\stats\\morestats.py:1653: UserWarning: p-value may not be accurate for N > 5000.\n",
      "  warnings.warn(\"p-value may not be accurate for N > 5000.\")\n"
     ]
    }
   ],
   "source": [
    "# Shapiro test to check for normality\n",
    "stat, p = shapiro(df['longitude'])"
   ]
  },
  {
   "cell_type": "code",
   "execution_count": 43,
   "metadata": {},
   "outputs": [
    {
     "name": "stdout",
     "output_type": "stream",
     "text": [
      "Statistic =  0.8480120897293091\n",
      "p-value =  0.0\n"
     ]
    }
   ],
   "source": [
    "print(\"Statistic = \", stat)\n",
    "print(\"p-value = \", p)"
   ]
  },
  {
   "cell_type": "markdown",
   "metadata": {},
   "source": [
    "From the above visualizations and normality tests, we can conclude that our dataset is not normal. \n",
    "However, it makes no sense to normalize columns in our case where all the data is factual.\n",
    "Hence, we have commented it out."
   ]
  },
  {
   "cell_type": "code",
   "execution_count": 44,
   "metadata": {},
   "outputs": [],
   "source": [
    "# x = df[numericsList].values \n",
    "# min_max_scaler = preprocessing.MinMaxScaler()\n",
    "# x = min_max_scaler.fit_transform(x)"
   ]
  },
  {
   "cell_type": "markdown",
   "metadata": {},
   "source": [
    "HYPOTHESIS TESTING"
   ]
  },
  {
   "cell_type": "markdown",
   "metadata": {},
   "source": [
    "Approximately 25 communities have registered cases pertaining to domestic violence based on official records"
   ]
  },
  {
   "cell_type": "code",
   "execution_count": 45,
   "metadata": {},
   "outputs": [],
   "source": [
    "# finding out all those rows that have domestic violence\n",
    "dfDomestic = df.loc[df['domestic'] != False] "
   ]
  },
  {
   "cell_type": "code",
   "execution_count": 46,
   "metadata": {},
   "outputs": [
    {
     "data": {
      "text/plain": [
       "community_area\n",
       "9      34\n",
       "10    126\n",
       "11    121\n",
       "12     36\n",
       "13     65\n",
       "18     82\n",
       "34     63\n",
       "36    104\n",
       "37     78\n",
       "45    168\n",
       "47     64\n",
       "48    196\n",
       "50    163\n",
       "52    169\n",
       "54    257\n",
       "55     70\n",
       "57     74\n",
       "59     79\n",
       "62    101\n",
       "64    134\n",
       "72     98\n",
       "74    107\n",
       "dtype: int64"
      ]
     },
     "execution_count": 46,
     "metadata": {},
     "output_type": "execute_result"
    }
   ],
   "source": [
    "# identifying which communities have domestic violence so that we can appoint family counsellors for those areas\n",
    "dfDomestic.groupby('community_area').size()"
   ]
  },
  {
   "cell_type": "code",
   "execution_count": 47,
   "metadata": {},
   "outputs": [
    {
     "name": "stdout",
     "output_type": "stream",
     "text": [
      "Number of communities that have domestic violence cases =  22\n"
     ]
    }
   ],
   "source": [
    "print('Number of communities that have domestic violence cases = ', dfDomestic.groupby('community_area').size().count())"
   ]
  },
  {
   "cell_type": "markdown",
   "metadata": {},
   "source": [
    "Beat no. 1133 has the most number of criminal cases registered based on an article by the Chicago Sun-Times"
   ]
  },
  {
   "cell_type": "code",
   "execution_count": 48,
   "metadata": {},
   "outputs": [],
   "source": [
    "# finding out all the beat's that have criminal cases registered under their jurisdiction\n",
    "dfBeat = df[['beat']]"
   ]
  },
  {
   "cell_type": "code",
   "execution_count": 49,
   "metadata": {},
   "outputs": [],
   "source": [
    "dfBeatCount = dfBeat.groupby('beat').size().tolist()\n",
    "dfBeatCountMax = dfBeat.groupby('beat').size().max()"
   ]
  },
  {
   "cell_type": "code",
   "execution_count": 50,
   "metadata": {},
   "outputs": [],
   "source": [
    "maxBeatIndex = 0\n",
    "for i in dfBeatCount:\n",
    "    if i == dfBeatCountMax:\n",
    "        maxBeatIndex = dfBeatCount.index(i)"
   ]
  },
  {
   "cell_type": "code",
   "execution_count": 51,
   "metadata": {},
   "outputs": [
    {
     "name": "stdout",
     "output_type": "stream",
     "text": [
      "Police beat ID that has maximum number of cases :\n",
      "beat    533\n",
      "Name: 28, dtype: int64\n"
     ]
    }
   ],
   "source": [
    "# identifying which beat has maximum cases to increase the police surveilance in that area\n",
    "print('Police beat ID that has maximum number of cases :')\n",
    "print(dfBeat.iloc[maxBeatIndex])"
   ]
  },
  {
   "cell_type": "markdown",
   "metadata": {},
   "source": [
    "After the 2008 recession in the US, a lot of people lost their jobs, hence the crime rate would have been really high in 2008."
   ]
  },
  {
   "cell_type": "code",
   "execution_count": 64,
   "metadata": {},
   "outputs": [
    {
     "data": {
      "image/png": "[encoded data removed]",
      "text/plain": [
       "<Figure size 432x288 with 1 Axes>"
      ]
     },
     "metadata": {
      "needs_background": "light"
     },
     "output_type": "display_data"
    }
   ],
   "source": [
    "cPlot1 = sns.countplot(y = 'year', data = df, order = pd.value_counts(df['year']).iloc[:10].index)"
   ]
  },
  {
   "cell_type": "markdown",
   "metadata": {},
   "source": [
    "Areas having a majority black population account for more crimes"
   ]
  },
  {
   "cell_type": "code",
   "execution_count": 53,
   "metadata": {},
   "outputs": [
    {
     "data": {
      "image/png": "[encoded data removed]",
      "text/plain": [
       "<Figure size 432x288 with 1 Axes>"
      ]
     },
     "metadata": {
      "needs_background": "light"
     },
     "output_type": "display_data"
    }
   ],
   "source": [
    "cPlot2 = sns.countplot(y = 'block', data = df, order = pd.value_counts(df['block']).iloc[:10].index)"
   ]
  },
  {
   "cell_type": "markdown",
   "metadata": {},
   "source": [
    "48.1% of the people living on 87th street and 40% of the people living on 11th street happen to be blacks.\n",
    "These account for the top 2 blocks where crime is most prevalent in Chicago."
   ]
  },
  {
   "cell_type": "markdown",
   "metadata": {},
   "source": [
    "Trying to get a visual perspective on the type of crimes prevalent in the city of Chicago"
   ]
  },
  {
   "cell_type": "code",
   "execution_count": 54,
   "metadata": {},
   "outputs": [
    {
     "data": {
      "text/plain": [
       "description\n",
       "ABUSE/NEGLECT: CARE FACILITY                                     2\n",
       "AGG CRIM SEX ABUSE FAM MEMBER                                   71\n",
       "AGG CRIMINAL SEXUAL ABUSE                                       91\n",
       "AGG PO HANDS ETC SERIOUS INJ                                    10\n",
       "AGG PO HANDS NO/MIN INJURY                                     331\n",
       "AGG PRO EMP HANDS SERIOUS INJ                                    7\n",
       "AGG PRO.EMP: HANDGUN                                            11\n",
       "AGG PRO.EMP: OTHER DANG WEAPON                                  53\n",
       "AGG PRO.EMP: OTHER FIREARM                                       1\n",
       "AGG PRO.EMP:KNIFE/CUTTING INST                                   9\n",
       "AGG SEX ASSLT OF CHILD FAM MBR                                  47\n",
       "AGG: FINANCIAL ID THEFT                                         57\n",
       "AGG: HANDS/FIST/FEET NO/MINOR INJURY                            88\n",
       "AGG: HANDS/FIST/FEET SERIOUS INJURY                             47\n",
       "AGGRAVATED                                                     232\n",
       "AGGRAVATED DOMESTIC BATTERY                                     18\n",
       "AGGRAVATED DOMESTIC BATTERY: HANDGUN                            13\n",
       "AGGRAVATED DOMESTIC BATTERY: HANDS/FIST/FEET SERIOUS INJURY    100\n",
       "AGGRAVATED DOMESTIC BATTERY: KNIFE/CUTTING INST                169\n",
       "AGGRAVATED DOMESTIC BATTERY: OTHER DANG WEAPON                 279\n",
       "AGGRAVATED DOMESTIC BATTERY: OTHER FIREARM                       2\n",
       "AGGRAVATED FINANCIAL IDENTITY THEFT                             21\n",
       "AGGRAVATED OF A CHILD                                           11\n",
       "AGGRAVATED OF A SENIOR CITIZEN                                  66\n",
       "AGGRAVATED PO: HANDGUN                                          20\n",
       "AGGRAVATED PO: KNIFE/CUT INSTR                                   3\n",
       "AGGRAVATED PO: OTHER DANG WEAP                                  30\n",
       "AGGRAVATED PO: OTHER FIREARM                                     3\n",
       "AGGRAVATED PO:KNIFE/CUT INSTR                                    6\n",
       "AGGRAVATED VEHICULAR HIJACKING                                 127\n",
       "                                                              ... \n",
       "TO RESIDENCE                                                   508\n",
       "TO STATE SUP PROP                                              193\n",
       "TO VEHICLE                                                     310\n",
       "TRUCK, BUS, MOTOR HOME                                         650\n",
       "UNAUTHORIZED VIDEOTAPING                                         7\n",
       "UNIDENTIFIABLE RECORDING SOUND                                   3\n",
       "UNLAWFUL INTERFERE/VISITATION                                   68\n",
       "UNLAWFUL POSS AMMUNITION                                        17\n",
       "UNLAWFUL POSS OTHER FIREARM                                     33\n",
       "UNLAWFUL RESTRAINT                                              24\n",
       "UNLAWFUL SALE HANDGUN                                            4\n",
       "UNLAWFUL SALE OTHER FIREARM                                      1\n",
       "UNLAWFUL SALE/DELIVERY OF FIREARM AT SCHOOL                      4\n",
       "UNLAWFUL USE HANDGUN                                            35\n",
       "UNLAWFUL USE OF A COMPUTER                                      12\n",
       "UNLAWFUL USE OF RECORDED SOUND                                  21\n",
       "UNLAWFUL USE OTHER DANG WEAPON                                 141\n",
       "UNLAWFUL USE OTHER FIREARM                                      23\n",
       "UNLAWFUL USE/SALE AIR RIFLE                                     29\n",
       "VEHICLE TITLE/REG OFFENSE                                      141\n",
       "VEHICULAR HIJACKING                                             61\n",
       "VIO BAIL BOND: DOM VIOLENCE                                     12\n",
       "VIOL CHARITABLE GAME ACT                                         1\n",
       "VIOLATION OF CIVIL NO CONTACT ORDER                              6\n",
       "VIOLATION OF STALKING NO CONTACT ORDER                           7\n",
       "VIOLENT OFFENDER: ANNUAL REGISTRATION                            7\n",
       "VIOLENT OFFENDER: DUTY TO REGISTER                               2\n",
       "VIOLENT OFFENDER: FAIL TO REGISTER NEW ADDRESS                   2\n",
       "WIREROOM/HORSES                                                  1\n",
       "WIREROOM/SPORTS                                                  2\n",
       "Length: 281, dtype: int64"
      ]
     },
     "execution_count": 54,
     "metadata": {},
     "output_type": "execute_result"
    }
   ],
   "source": [
    "df.groupby('description').size()"
   ]
  },
  {
   "cell_type": "code",
   "execution_count": 55,
   "metadata": {},
   "outputs": [
    {
     "data": {
      "image/png": "[encoded data removed]",
      "text/plain": [
       "<Figure size 432x288 with 1 Axes>"
      ]
     },
     "metadata": {
      "needs_background": "light"
     },
     "output_type": "display_data"
    }
   ],
   "source": [
    "# plotting the 10 most prevalent type of crimes in the city\n",
    "ax = sns.countplot(y = 'description', data = df, order = pd.value_counts(df['description']).iloc[:10].index)"
   ]
  },
  {
   "cell_type": "markdown",
   "metadata": {},
   "source": [
    "As expected, simple crimes have the maximum occurrence. \n",
    "However, armed crimes are gaining ground which is alarming. \n",
    "As a solution, gun laws must be made a lot stricter."
   ]
  },
  {
   "cell_type": "markdown",
   "metadata": {},
   "source": [
    "Obtaining a correlation table to see how the variables are related to each other"
   ]
  },
  {
   "cell_type": "code",
   "execution_count": 56,
   "metadata": {},
   "outputs": [
    {
     "data": {
      "text/html": [
       "<div>\n",
       "<style scoped>\n",
       "    .dataframe tbody tr th:only-of-type {\n",
       "        vertical-align: middle;\n",
       "    }\n",
       "\n",
       "    .dataframe tbody tr th {\n",
       "        vertical-align: top;\n",
       "    }\n",
       "\n",
       "    .dataframe thead th {\n",
       "        text-align: right;\n",
       "    }\n",
       "</style>\n",
       "<table border=\"1\" class=\"dataframe\">\n",
       "  <thead>\n",
       "    <tr style=\"text-align: right;\">\n",
       "      <th></th>\n",
       "      <th>unique_key</th>\n",
       "      <th>arrest</th>\n",
       "      <th>domestic</th>\n",
       "      <th>beat</th>\n",
       "      <th>district</th>\n",
       "      <th>ward</th>\n",
       "      <th>community_area</th>\n",
       "      <th>x_coordinate</th>\n",
       "      <th>y_coordinate</th>\n",
       "      <th>year</th>\n",
       "      <th>latitude</th>\n",
       "      <th>longitude</th>\n",
       "    </tr>\n",
       "  </thead>\n",
       "  <tbody>\n",
       "    <tr>\n",
       "      <th>unique_key</th>\n",
       "      <td>1.000000</td>\n",
       "      <td>-0.047983</td>\n",
       "      <td>0.045177</td>\n",
       "      <td>-0.027471</td>\n",
       "      <td>0.019729</td>\n",
       "      <td>0.024172</td>\n",
       "      <td>-0.039544</td>\n",
       "      <td>-0.029051</td>\n",
       "      <td>0.038404</td>\n",
       "      <td>0.972400</td>\n",
       "      <td>0.038376</td>\n",
       "      <td>-0.028900</td>\n",
       "    </tr>\n",
       "    <tr>\n",
       "      <th>arrest</th>\n",
       "      <td>-0.047983</td>\n",
       "      <td>1.000000</td>\n",
       "      <td>-0.049875</td>\n",
       "      <td>-0.039044</td>\n",
       "      <td>-0.042870</td>\n",
       "      <td>-0.044896</td>\n",
       "      <td>0.011308</td>\n",
       "      <td>0.024395</td>\n",
       "      <td>-0.016190</td>\n",
       "      <td>-0.041227</td>\n",
       "      <td>-0.016268</td>\n",
       "      <td>0.024764</td>\n",
       "    </tr>\n",
       "    <tr>\n",
       "      <th>domestic</th>\n",
       "      <td>0.045177</td>\n",
       "      <td>-0.049875</td>\n",
       "      <td>1.000000</td>\n",
       "      <td>-0.007683</td>\n",
       "      <td>-0.009228</td>\n",
       "      <td>-0.014630</td>\n",
       "      <td>0.011679</td>\n",
       "      <td>0.017179</td>\n",
       "      <td>-0.033624</td>\n",
       "      <td>0.042448</td>\n",
       "      <td>-0.033573</td>\n",
       "      <td>0.016908</td>\n",
       "    </tr>\n",
       "    <tr>\n",
       "      <th>beat</th>\n",
       "      <td>-0.027471</td>\n",
       "      <td>-0.039044</td>\n",
       "      <td>-0.007683</td>\n",
       "      <td>1.000000</td>\n",
       "      <td>0.914914</td>\n",
       "      <td>0.676362</td>\n",
       "      <td>-0.313198</td>\n",
       "      <td>-0.616434</td>\n",
       "      <td>0.514634</td>\n",
       "      <td>-0.035241</td>\n",
       "      <td>0.515493</td>\n",
       "      <td>-0.618126</td>\n",
       "    </tr>\n",
       "    <tr>\n",
       "      <th>district</th>\n",
       "      <td>0.019729</td>\n",
       "      <td>-0.042870</td>\n",
       "      <td>-0.009228</td>\n",
       "      <td>0.914914</td>\n",
       "      <td>1.000000</td>\n",
       "      <td>0.729379</td>\n",
       "      <td>-0.289338</td>\n",
       "      <td>-0.676588</td>\n",
       "      <td>0.508521</td>\n",
       "      <td>0.013009</td>\n",
       "      <td>0.509669</td>\n",
       "      <td>-0.679272</td>\n",
       "    </tr>\n",
       "    <tr>\n",
       "      <th>ward</th>\n",
       "      <td>0.024172</td>\n",
       "      <td>-0.044896</td>\n",
       "      <td>-0.014630</td>\n",
       "      <td>0.676362</td>\n",
       "      <td>0.729379</td>\n",
       "      <td>1.000000</td>\n",
       "      <td>-0.671515</td>\n",
       "      <td>-0.739765</td>\n",
       "      <td>0.775942</td>\n",
       "      <td>0.016561</td>\n",
       "      <td>0.776259</td>\n",
       "      <td>-0.740210</td>\n",
       "    </tr>\n",
       "    <tr>\n",
       "      <th>community_area</th>\n",
       "      <td>-0.039544</td>\n",
       "      <td>0.011308</td>\n",
       "      <td>0.011679</td>\n",
       "      <td>-0.313198</td>\n",
       "      <td>-0.289338</td>\n",
       "      <td>-0.671515</td>\n",
       "      <td>1.000000</td>\n",
       "      <td>0.366592</td>\n",
       "      <td>-0.784118</td>\n",
       "      <td>-0.036495</td>\n",
       "      <td>-0.782675</td>\n",
       "      <td>0.362058</td>\n",
       "    </tr>\n",
       "    <tr>\n",
       "      <th>x_coordinate</th>\n",
       "      <td>-0.029051</td>\n",
       "      <td>0.024395</td>\n",
       "      <td>0.017179</td>\n",
       "      <td>-0.616434</td>\n",
       "      <td>-0.676588</td>\n",
       "      <td>-0.739765</td>\n",
       "      <td>0.366592</td>\n",
       "      <td>1.000000</td>\n",
       "      <td>-0.607928</td>\n",
       "      <td>-0.023155</td>\n",
       "      <td>-0.609085</td>\n",
       "      <td>0.999870</td>\n",
       "    </tr>\n",
       "    <tr>\n",
       "      <th>y_coordinate</th>\n",
       "      <td>0.038404</td>\n",
       "      <td>-0.016190</td>\n",
       "      <td>-0.033624</td>\n",
       "      <td>0.514634</td>\n",
       "      <td>0.508521</td>\n",
       "      <td>0.775942</td>\n",
       "      <td>-0.784118</td>\n",
       "      <td>-0.607928</td>\n",
       "      <td>1.000000</td>\n",
       "      <td>0.033005</td>\n",
       "      <td>0.999994</td>\n",
       "      <td>-0.609446</td>\n",
       "    </tr>\n",
       "    <tr>\n",
       "      <th>year</th>\n",
       "      <td>0.972400</td>\n",
       "      <td>-0.041227</td>\n",
       "      <td>0.042448</td>\n",
       "      <td>-0.035241</td>\n",
       "      <td>0.013009</td>\n",
       "      <td>0.016561</td>\n",
       "      <td>-0.036495</td>\n",
       "      <td>-0.023155</td>\n",
       "      <td>0.033005</td>\n",
       "      <td>1.000000</td>\n",
       "      <td>0.032973</td>\n",
       "      <td>-0.023005</td>\n",
       "    </tr>\n",
       "    <tr>\n",
       "      <th>latitude</th>\n",
       "      <td>0.038376</td>\n",
       "      <td>-0.016268</td>\n",
       "      <td>-0.033573</td>\n",
       "      <td>0.515493</td>\n",
       "      <td>0.509669</td>\n",
       "      <td>0.776259</td>\n",
       "      <td>-0.782675</td>\n",
       "      <td>-0.609085</td>\n",
       "      <td>0.999994</td>\n",
       "      <td>0.032973</td>\n",
       "      <td>1.000000</td>\n",
       "      <td>-0.610649</td>\n",
       "    </tr>\n",
       "    <tr>\n",
       "      <th>longitude</th>\n",
       "      <td>-0.028900</td>\n",
       "      <td>0.024764</td>\n",
       "      <td>0.016908</td>\n",
       "      <td>-0.618126</td>\n",
       "      <td>-0.679272</td>\n",
       "      <td>-0.740210</td>\n",
       "      <td>0.362058</td>\n",
       "      <td>0.999870</td>\n",
       "      <td>-0.609446</td>\n",
       "      <td>-0.023005</td>\n",
       "      <td>-0.610649</td>\n",
       "      <td>1.000000</td>\n",
       "    </tr>\n",
       "  </tbody>\n",
       "</table>\n",
       "</div>"
      ],
      "text/plain": [
       "                unique_key    arrest  domestic      beat  district      ward  \\\n",
       "unique_key        1.000000 -0.047983  0.045177 -0.027471  0.019729  0.024172   \n",
       "arrest           -0.047983  1.000000 -0.049875 -0.039044 -0.042870 -0.044896   \n",
       "domestic          0.045177 -0.049875  1.000000 -0.007683 -0.009228 -0.014630   \n",
       "beat             -0.027471 -0.039044 -0.007683  1.000000  0.914914  0.676362   \n",
       "district          0.019729 -0.042870 -0.009228  0.914914  1.000000  0.729379   \n",
       "ward              0.024172 -0.044896 -0.014630  0.676362  0.729379  1.000000   \n",
       "community_area   -0.039544  0.011308  0.011679 -0.313198 -0.289338 -0.671515   \n",
       "x_coordinate     -0.029051  0.024395  0.017179 -0.616434 -0.676588 -0.739765   \n",
       "y_coordinate      0.038404 -0.016190 -0.033624  0.514634  0.508521  0.775942   \n",
       "year              0.972400 -0.041227  0.042448 -0.035241  0.013009  0.016561   \n",
       "latitude          0.038376 -0.016268 -0.033573  0.515493  0.509669  0.776259   \n",
       "longitude        -0.028900  0.024764  0.016908 -0.618126 -0.679272 -0.740210   \n",
       "\n",
       "                community_area  x_coordinate  y_coordinate      year  \\\n",
       "unique_key           -0.039544     -0.029051      0.038404  0.972400   \n",
       "arrest                0.011308      0.024395     -0.016190 -0.041227   \n",
       "domestic              0.011679      0.017179     -0.033624  0.042448   \n",
       "beat                 -0.313198     -0.616434      0.514634 -0.035241   \n",
       "district             -0.289338     -0.676588      0.508521  0.013009   \n",
       "ward                 -0.671515     -0.739765      0.775942  0.016561   \n",
       "community_area        1.000000      0.366592     -0.784118 -0.036495   \n",
       "x_coordinate          0.366592      1.000000     -0.607928 -0.023155   \n",
       "y_coordinate         -0.784118     -0.607928      1.000000  0.033005   \n",
       "year                 -0.036495     -0.023155      0.033005  1.000000   \n",
       "latitude             -0.782675     -0.609085      0.999994  0.032973   \n",
       "longitude             0.362058      0.999870     -0.609446 -0.023005   \n",
       "\n",
       "                latitude  longitude  \n",
       "unique_key      0.038376  -0.028900  \n",
       "arrest         -0.016268   0.024764  \n",
       "domestic       -0.033573   0.016908  \n",
       "beat            0.515493  -0.618126  \n",
       "district        0.509669  -0.679272  \n",
       "ward            0.776259  -0.740210  \n",
       "community_area -0.782675   0.362058  \n",
       "x_coordinate   -0.609085   0.999870  \n",
       "y_coordinate    0.999994  -0.609446  \n",
       "year            0.032973  -0.023005  \n",
       "latitude        1.000000  -0.610649  \n",
       "longitude      -0.610649   1.000000  "
      ]
     },
     "execution_count": 56,
     "metadata": {},
     "output_type": "execute_result"
    }
   ],
   "source": [
    "df.corr()"
   ]
  }
 ],
 "metadata": {
  "kernelspec": {
   "display_name": "Python 3",
   "language": "python",
   "name": "python3"
  },
  "language_info": {
   "codemirror_mode": {
    "name": "ipython",
    "version": 3
   },
   "file_extension": ".py",
   "mimetype": "text/x-python",
   "name": "python",
   "nbconvert_exporter": "python",
   "pygments_lexer": "ipython3",
   "version": "3.7.3"
  }
 },
 "nbformat": 4,
 "nbformat_minor": 4
}
